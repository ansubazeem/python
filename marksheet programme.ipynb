{
 "cells": [
  {
   "cell_type": "raw",
   "metadata": {},
   "source": [
    "programme of marksheet grading system of students homewrok of programming second class\n"
   ]
  },
  {
   "cell_type": "code",
   "execution_count": 21,
   "metadata": {},
   "outputs": [
    {
     "name": "stdout",
     "output_type": "stream",
     "text": [
      "                                  Sindh Board Of Eductaion     \n",
      "\n",
      "\n",
      "Student Name : Ansub Azeem\n",
      "Roll Number  : 543210\n",
      "Fathers Name : Fazal-Ul-Qadir\n",
      "Institution  : The ABC School\n",
      "\n",
      "\n",
      "\n",
      "                           Subject Name           Marks Obtained\n",
      "                            Maths                   80\n",
      "                            Physics                 76\n",
      "                            English                 56\n",
      "                            Urdu                    75\n",
      "                            Chemistry               90\n",
      "                            Islamiyat               83\n",
      "\n",
      "\n",
      "\n",
      "Obtained Marks          460\n",
      "Total Marks             600\n",
      "percentage              76.66666666666667\n",
      "Grade Obtained           B\n",
      "\n",
      "\n",
      "\n",
      "\n",
      "\n",
      "\n",
      "Signature of controller                                     signature of head examiner\n"
     ]
    }
   ],
   "source": [
    "maths = 80\n",
    "physics= 76\n",
    "english= 56\n",
    "urdu= 75\n",
    "chemistry= 90\n",
    "islamiyat= 83\n",
    "avg=(maths+physics+english+urdu+chemistry+islamiyat)/6\n",
    "if avg > 89:\n",
    "    Grade =\" A+\"\n",
    "elif avg > 79 and avg <89:\n",
    "    Grade= \" A\"\n",
    "elif avg > 69 and avg < 79 :\n",
    "    Grade= \" B\"\n",
    "elif avg > 59 and avg < 69 :\n",
    "    Grade= \" C\"\n",
    "elif avg > 50 and avg <59 :\n",
    "    Grade=\" D\"\n",
    "else:\n",
    "    Grade= \" F\"\n",
    "student_name=\"Student Name : Ansub Azeem\"\n",
    "roll_number=\"Roll Number  : 543210\"\n",
    "father_name=\"Fathers Name : Fazal-Ul-Qadir\"\n",
    "school_name=\"Institution  : The ABC School\"\n",
    "print ( \"                                  Sindh Board Of Eductaion     \")\n",
    "print(           )\n",
    "print(          )\n",
    "print(student_name)\n",
    "print(roll_number)\n",
    "print(father_name)\n",
    "print(school_name)\n",
    "print(        )\n",
    "print(        )\n",
    "print (       )\n",
    "print ( \"                          \", \"Subject Name           Marks Obtained\")\n",
    "print (\"                           \",\"Maths\",\"                 \",maths)\n",
    "print (\"                           \",\"Physics\",\"               \",physics)\n",
    "print (\"                           \",\"English\",\"               \",english)\n",
    "print (\"                           \",\"Urdu\",\"                  \",urdu)\n",
    "print (\"                           \",\"Chemistry\",\"             \",chemistry)\n",
    "print (\"                           \",\"Islamiyat\",\"             \",islamiyat)\n",
    "print(    )\n",
    "print(    )\n",
    "print(    )\n",
    "print (\"Obtained Marks\",\"        \",maths+physics+english+urdu+chemistry+islamiyat)\n",
    "print (\"Total Marks\",\"           \",600)\n",
    "print (\"percentage \",\"           \",avg)\n",
    "print (\"Grade Obtained\",\"        \",Grade)\n",
    "print(     )\n",
    "print(     )\n",
    "print(     )\n",
    "print(      )\n",
    "print (     )\n",
    "print(      )\n",
    "print (\"Signature of controller\",\"                                   \",\"signature of head examiner\")"
   ]
  },
  {
   "cell_type": "code",
   "execution_count": null,
   "metadata": {},
   "outputs": [],
   "source": []
  }
 ],
 "metadata": {
  "kernelspec": {
   "display_name": "Python 3",
   "language": "python",
   "name": "python3"
  },
  "language_info": {
   "codemirror_mode": {
    "name": "ipython",
    "version": 3
   },
   "file_extension": ".py",
   "mimetype": "text/x-python",
   "name": "python",
   "nbconvert_exporter": "python",
   "pygments_lexer": "ipython3",
   "version": "3.7.3"
  }
 },
 "nbformat": 4,
 "nbformat_minor": 2
}
